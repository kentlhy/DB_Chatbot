{
 "cells": [
  {
   "cell_type": "code",
   "execution_count": 1,
   "metadata": {
    "collapsed": true,
    "ExecuteTime": {
     "end_time": "2024-08-10T04:31:13.617120Z",
     "start_time": "2024-08-10T04:31:12.364505Z"
    }
   },
   "outputs": [
    {
     "name": "stderr",
     "output_type": "stream",
     "text": [
      "/var/folders/wb/wd79lvhj47g_7s7zw5ytxfzm0000gn/T/ipykernel_85363/958069471.py:15: UserWarning: pandas only supports SQLAlchemy connectable (engine/connection) or database string URI or sqlite3 DBAPI2 connection. Other DBAPI2 objects are not tested. Please consider using SQLAlchemy.\n",
      "  df.to_sql('your_table_name', con=engine, if_exists='replace', index=False)\n"
     ]
    },
    {
     "ename": "AttributeError",
     "evalue": "'Engine' object has no attribute 'cursor'",
     "output_type": "error",
     "traceback": [
      "\u001B[0;31m---------------------------------------------------------------------------\u001B[0m",
      "\u001B[0;31mAttributeError\u001B[0m                            Traceback (most recent call last)",
      "Cell \u001B[0;32mIn[1], line 15\u001B[0m\n\u001B[1;32m     12\u001B[0m df \u001B[38;5;241m=\u001B[39m pd\u001B[38;5;241m.\u001B[39mDataFrame(data)\n\u001B[1;32m     14\u001B[0m \u001B[38;5;66;03m# Write the DataFrame to SQLite\u001B[39;00m\n\u001B[0;32m---> 15\u001B[0m \u001B[43mdf\u001B[49m\u001B[38;5;241;43m.\u001B[39;49m\u001B[43mto_sql\u001B[49m\u001B[43m(\u001B[49m\u001B[38;5;124;43m'\u001B[39;49m\u001B[38;5;124;43myour_table_name\u001B[39;49m\u001B[38;5;124;43m'\u001B[39;49m\u001B[43m,\u001B[49m\u001B[43m \u001B[49m\u001B[43mcon\u001B[49m\u001B[38;5;241;43m=\u001B[39;49m\u001B[43mengine\u001B[49m\u001B[43m,\u001B[49m\u001B[43m \u001B[49m\u001B[43mif_exists\u001B[49m\u001B[38;5;241;43m=\u001B[39;49m\u001B[38;5;124;43m'\u001B[39;49m\u001B[38;5;124;43mreplace\u001B[39;49m\u001B[38;5;124;43m'\u001B[39;49m\u001B[43m,\u001B[49m\u001B[43m \u001B[49m\u001B[43mindex\u001B[49m\u001B[38;5;241;43m=\u001B[39;49m\u001B[38;5;28;43;01mFalse\u001B[39;49;00m\u001B[43m)\u001B[49m\n",
      "File \u001B[0;32m~/PycharmProjects/DB_Chatbot/venv/lib/python3.9/site-packages/pandas/util/_decorators.py:333\u001B[0m, in \u001B[0;36mdeprecate_nonkeyword_arguments.<locals>.decorate.<locals>.wrapper\u001B[0;34m(*args, **kwargs)\u001B[0m\n\u001B[1;32m    327\u001B[0m \u001B[38;5;28;01mif\u001B[39;00m \u001B[38;5;28mlen\u001B[39m(args) \u001B[38;5;241m>\u001B[39m num_allow_args:\n\u001B[1;32m    328\u001B[0m     warnings\u001B[38;5;241m.\u001B[39mwarn(\n\u001B[1;32m    329\u001B[0m         msg\u001B[38;5;241m.\u001B[39mformat(arguments\u001B[38;5;241m=\u001B[39m_format_argument_list(allow_args)),\n\u001B[1;32m    330\u001B[0m         \u001B[38;5;167;01mFutureWarning\u001B[39;00m,\n\u001B[1;32m    331\u001B[0m         stacklevel\u001B[38;5;241m=\u001B[39mfind_stack_level(),\n\u001B[1;32m    332\u001B[0m     )\n\u001B[0;32m--> 333\u001B[0m \u001B[38;5;28;01mreturn\u001B[39;00m \u001B[43mfunc\u001B[49m\u001B[43m(\u001B[49m\u001B[38;5;241;43m*\u001B[39;49m\u001B[43margs\u001B[49m\u001B[43m,\u001B[49m\u001B[43m \u001B[49m\u001B[38;5;241;43m*\u001B[39;49m\u001B[38;5;241;43m*\u001B[39;49m\u001B[43mkwargs\u001B[49m\u001B[43m)\u001B[49m\n",
      "File \u001B[0;32m~/PycharmProjects/DB_Chatbot/venv/lib/python3.9/site-packages/pandas/core/generic.py:3087\u001B[0m, in \u001B[0;36mNDFrame.to_sql\u001B[0;34m(self, name, con, schema, if_exists, index, index_label, chunksize, dtype, method)\u001B[0m\n\u001B[1;32m   2889\u001B[0m \u001B[38;5;250m\u001B[39m\u001B[38;5;124;03m\"\"\"\u001B[39;00m\n\u001B[1;32m   2890\u001B[0m \u001B[38;5;124;03mWrite records stored in a DataFrame to a SQL database.\u001B[39;00m\n\u001B[1;32m   2891\u001B[0m \n\u001B[0;32m   (...)\u001B[0m\n\u001B[1;32m   3083\u001B[0m \u001B[38;5;124;03m[(1,), (None,), (2,)]\u001B[39;00m\n\u001B[1;32m   3084\u001B[0m \u001B[38;5;124;03m\"\"\"\u001B[39;00m  \u001B[38;5;66;03m# noqa: E501\u001B[39;00m\n\u001B[1;32m   3085\u001B[0m \u001B[38;5;28;01mfrom\u001B[39;00m \u001B[38;5;21;01mpandas\u001B[39;00m\u001B[38;5;21;01m.\u001B[39;00m\u001B[38;5;21;01mio\u001B[39;00m \u001B[38;5;28;01mimport\u001B[39;00m sql\n\u001B[0;32m-> 3087\u001B[0m \u001B[38;5;28;01mreturn\u001B[39;00m \u001B[43msql\u001B[49m\u001B[38;5;241;43m.\u001B[39;49m\u001B[43mto_sql\u001B[49m\u001B[43m(\u001B[49m\n\u001B[1;32m   3088\u001B[0m \u001B[43m    \u001B[49m\u001B[38;5;28;43mself\u001B[39;49m\u001B[43m,\u001B[49m\n\u001B[1;32m   3089\u001B[0m \u001B[43m    \u001B[49m\u001B[43mname\u001B[49m\u001B[43m,\u001B[49m\n\u001B[1;32m   3090\u001B[0m \u001B[43m    \u001B[49m\u001B[43mcon\u001B[49m\u001B[43m,\u001B[49m\n\u001B[1;32m   3091\u001B[0m \u001B[43m    \u001B[49m\u001B[43mschema\u001B[49m\u001B[38;5;241;43m=\u001B[39;49m\u001B[43mschema\u001B[49m\u001B[43m,\u001B[49m\n\u001B[1;32m   3092\u001B[0m \u001B[43m    \u001B[49m\u001B[43mif_exists\u001B[49m\u001B[38;5;241;43m=\u001B[39;49m\u001B[43mif_exists\u001B[49m\u001B[43m,\u001B[49m\n\u001B[1;32m   3093\u001B[0m \u001B[43m    \u001B[49m\u001B[43mindex\u001B[49m\u001B[38;5;241;43m=\u001B[39;49m\u001B[43mindex\u001B[49m\u001B[43m,\u001B[49m\n\u001B[1;32m   3094\u001B[0m \u001B[43m    \u001B[49m\u001B[43mindex_label\u001B[49m\u001B[38;5;241;43m=\u001B[39;49m\u001B[43mindex_label\u001B[49m\u001B[43m,\u001B[49m\n\u001B[1;32m   3095\u001B[0m \u001B[43m    \u001B[49m\u001B[43mchunksize\u001B[49m\u001B[38;5;241;43m=\u001B[39;49m\u001B[43mchunksize\u001B[49m\u001B[43m,\u001B[49m\n\u001B[1;32m   3096\u001B[0m \u001B[43m    \u001B[49m\u001B[43mdtype\u001B[49m\u001B[38;5;241;43m=\u001B[39;49m\u001B[43mdtype\u001B[49m\u001B[43m,\u001B[49m\n\u001B[1;32m   3097\u001B[0m \u001B[43m    \u001B[49m\u001B[43mmethod\u001B[49m\u001B[38;5;241;43m=\u001B[39;49m\u001B[43mmethod\u001B[49m\u001B[43m,\u001B[49m\n\u001B[1;32m   3098\u001B[0m \u001B[43m\u001B[49m\u001B[43m)\u001B[49m\n",
      "File \u001B[0;32m~/PycharmProjects/DB_Chatbot/venv/lib/python3.9/site-packages/pandas/io/sql.py:842\u001B[0m, in \u001B[0;36mto_sql\u001B[0;34m(frame, name, con, schema, if_exists, index, index_label, chunksize, dtype, method, engine, **engine_kwargs)\u001B[0m\n\u001B[1;32m    837\u001B[0m     \u001B[38;5;28;01mraise\u001B[39;00m \u001B[38;5;167;01mNotImplementedError\u001B[39;00m(\n\u001B[1;32m    838\u001B[0m         \u001B[38;5;124m\"\u001B[39m\u001B[38;5;124m'\u001B[39m\u001B[38;5;124mframe\u001B[39m\u001B[38;5;124m'\u001B[39m\u001B[38;5;124m argument should be either a Series or a DataFrame\u001B[39m\u001B[38;5;124m\"\u001B[39m\n\u001B[1;32m    839\u001B[0m     )\n\u001B[1;32m    841\u001B[0m \u001B[38;5;28;01mwith\u001B[39;00m pandasSQL_builder(con, schema\u001B[38;5;241m=\u001B[39mschema, need_transaction\u001B[38;5;241m=\u001B[39m\u001B[38;5;28;01mTrue\u001B[39;00m) \u001B[38;5;28;01mas\u001B[39;00m pandas_sql:\n\u001B[0;32m--> 842\u001B[0m     \u001B[38;5;28;01mreturn\u001B[39;00m \u001B[43mpandas_sql\u001B[49m\u001B[38;5;241;43m.\u001B[39;49m\u001B[43mto_sql\u001B[49m\u001B[43m(\u001B[49m\n\u001B[1;32m    843\u001B[0m \u001B[43m        \u001B[49m\u001B[43mframe\u001B[49m\u001B[43m,\u001B[49m\n\u001B[1;32m    844\u001B[0m \u001B[43m        \u001B[49m\u001B[43mname\u001B[49m\u001B[43m,\u001B[49m\n\u001B[1;32m    845\u001B[0m \u001B[43m        \u001B[49m\u001B[43mif_exists\u001B[49m\u001B[38;5;241;43m=\u001B[39;49m\u001B[43mif_exists\u001B[49m\u001B[43m,\u001B[49m\n\u001B[1;32m    846\u001B[0m \u001B[43m        \u001B[49m\u001B[43mindex\u001B[49m\u001B[38;5;241;43m=\u001B[39;49m\u001B[43mindex\u001B[49m\u001B[43m,\u001B[49m\n\u001B[1;32m    847\u001B[0m \u001B[43m        \u001B[49m\u001B[43mindex_label\u001B[49m\u001B[38;5;241;43m=\u001B[39;49m\u001B[43mindex_label\u001B[49m\u001B[43m,\u001B[49m\n\u001B[1;32m    848\u001B[0m \u001B[43m        \u001B[49m\u001B[43mschema\u001B[49m\u001B[38;5;241;43m=\u001B[39;49m\u001B[43mschema\u001B[49m\u001B[43m,\u001B[49m\n\u001B[1;32m    849\u001B[0m \u001B[43m        \u001B[49m\u001B[43mchunksize\u001B[49m\u001B[38;5;241;43m=\u001B[39;49m\u001B[43mchunksize\u001B[49m\u001B[43m,\u001B[49m\n\u001B[1;32m    850\u001B[0m \u001B[43m        \u001B[49m\u001B[43mdtype\u001B[49m\u001B[38;5;241;43m=\u001B[39;49m\u001B[43mdtype\u001B[49m\u001B[43m,\u001B[49m\n\u001B[1;32m    851\u001B[0m \u001B[43m        \u001B[49m\u001B[43mmethod\u001B[49m\u001B[38;5;241;43m=\u001B[39;49m\u001B[43mmethod\u001B[49m\u001B[43m,\u001B[49m\n\u001B[1;32m    852\u001B[0m \u001B[43m        \u001B[49m\u001B[43mengine\u001B[49m\u001B[38;5;241;43m=\u001B[39;49m\u001B[43mengine\u001B[49m\u001B[43m,\u001B[49m\n\u001B[1;32m    853\u001B[0m \u001B[43m        \u001B[49m\u001B[38;5;241;43m*\u001B[39;49m\u001B[38;5;241;43m*\u001B[39;49m\u001B[43mengine_kwargs\u001B[49m\u001B[43m,\u001B[49m\n\u001B[1;32m    854\u001B[0m \u001B[43m    \u001B[49m\u001B[43m)\u001B[49m\n",
      "File \u001B[0;32m~/PycharmProjects/DB_Chatbot/venv/lib/python3.9/site-packages/pandas/io/sql.py:2850\u001B[0m, in \u001B[0;36mSQLiteDatabase.to_sql\u001B[0;34m(self, frame, name, if_exists, index, index_label, schema, chunksize, dtype, method, engine, **engine_kwargs)\u001B[0m\n\u001B[1;32m   2839\u001B[0m             \u001B[38;5;28;01mraise\u001B[39;00m \u001B[38;5;167;01mValueError\u001B[39;00m(\u001B[38;5;124mf\u001B[39m\u001B[38;5;124m\"\u001B[39m\u001B[38;5;132;01m{\u001B[39;00mcol\u001B[38;5;132;01m}\u001B[39;00m\u001B[38;5;124m (\u001B[39m\u001B[38;5;132;01m{\u001B[39;00mmy_type\u001B[38;5;132;01m}\u001B[39;00m\u001B[38;5;124m) not a string\u001B[39m\u001B[38;5;124m\"\u001B[39m)\n\u001B[1;32m   2841\u001B[0m table \u001B[38;5;241m=\u001B[39m SQLiteTable(\n\u001B[1;32m   2842\u001B[0m     name,\n\u001B[1;32m   2843\u001B[0m     \u001B[38;5;28mself\u001B[39m,\n\u001B[0;32m   (...)\u001B[0m\n\u001B[1;32m   2848\u001B[0m     dtype\u001B[38;5;241m=\u001B[39mdtype,\n\u001B[1;32m   2849\u001B[0m )\n\u001B[0;32m-> 2850\u001B[0m \u001B[43mtable\u001B[49m\u001B[38;5;241;43m.\u001B[39;49m\u001B[43mcreate\u001B[49m\u001B[43m(\u001B[49m\u001B[43m)\u001B[49m\n\u001B[1;32m   2851\u001B[0m \u001B[38;5;28;01mreturn\u001B[39;00m table\u001B[38;5;241m.\u001B[39minsert(chunksize, method)\n",
      "File \u001B[0;32m~/PycharmProjects/DB_Chatbot/venv/lib/python3.9/site-packages/pandas/io/sql.py:984\u001B[0m, in \u001B[0;36mSQLTable.create\u001B[0;34m(self)\u001B[0m\n\u001B[1;32m    983\u001B[0m \u001B[38;5;28;01mdef\u001B[39;00m \u001B[38;5;21mcreate\u001B[39m(\u001B[38;5;28mself\u001B[39m) \u001B[38;5;241m-\u001B[39m\u001B[38;5;241m>\u001B[39m \u001B[38;5;28;01mNone\u001B[39;00m:\n\u001B[0;32m--> 984\u001B[0m     \u001B[38;5;28;01mif\u001B[39;00m \u001B[38;5;28;43mself\u001B[39;49m\u001B[38;5;241;43m.\u001B[39;49m\u001B[43mexists\u001B[49m\u001B[43m(\u001B[49m\u001B[43m)\u001B[49m:\n\u001B[1;32m    985\u001B[0m         \u001B[38;5;28;01mif\u001B[39;00m \u001B[38;5;28mself\u001B[39m\u001B[38;5;241m.\u001B[39mif_exists \u001B[38;5;241m==\u001B[39m \u001B[38;5;124m\"\u001B[39m\u001B[38;5;124mfail\u001B[39m\u001B[38;5;124m\"\u001B[39m:\n\u001B[1;32m    986\u001B[0m             \u001B[38;5;28;01mraise\u001B[39;00m \u001B[38;5;167;01mValueError\u001B[39;00m(\u001B[38;5;124mf\u001B[39m\u001B[38;5;124m\"\u001B[39m\u001B[38;5;124mTable \u001B[39m\u001B[38;5;124m'\u001B[39m\u001B[38;5;132;01m{\u001B[39;00m\u001B[38;5;28mself\u001B[39m\u001B[38;5;241m.\u001B[39mname\u001B[38;5;132;01m}\u001B[39;00m\u001B[38;5;124m'\u001B[39m\u001B[38;5;124m already exists.\u001B[39m\u001B[38;5;124m\"\u001B[39m)\n",
      "File \u001B[0;32m~/PycharmProjects/DB_Chatbot/venv/lib/python3.9/site-packages/pandas/io/sql.py:970\u001B[0m, in \u001B[0;36mSQLTable.exists\u001B[0;34m(self)\u001B[0m\n\u001B[1;32m    969\u001B[0m \u001B[38;5;28;01mdef\u001B[39;00m \u001B[38;5;21mexists\u001B[39m(\u001B[38;5;28mself\u001B[39m):\n\u001B[0;32m--> 970\u001B[0m     \u001B[38;5;28;01mreturn\u001B[39;00m \u001B[38;5;28;43mself\u001B[39;49m\u001B[38;5;241;43m.\u001B[39;49m\u001B[43mpd_sql\u001B[49m\u001B[38;5;241;43m.\u001B[39;49m\u001B[43mhas_table\u001B[49m\u001B[43m(\u001B[49m\u001B[38;5;28;43mself\u001B[39;49m\u001B[38;5;241;43m.\u001B[39;49m\u001B[43mname\u001B[49m\u001B[43m,\u001B[49m\u001B[43m \u001B[49m\u001B[38;5;28;43mself\u001B[39;49m\u001B[38;5;241;43m.\u001B[39;49m\u001B[43mschema\u001B[49m\u001B[43m)\u001B[49m\n",
      "File \u001B[0;32m~/PycharmProjects/DB_Chatbot/venv/lib/python3.9/site-packages/pandas/io/sql.py:2865\u001B[0m, in \u001B[0;36mSQLiteDatabase.has_table\u001B[0;34m(self, name, schema)\u001B[0m\n\u001B[1;32m   2854\u001B[0m wld \u001B[38;5;241m=\u001B[39m \u001B[38;5;124m\"\u001B[39m\u001B[38;5;124m?\u001B[39m\u001B[38;5;124m\"\u001B[39m\n\u001B[1;32m   2855\u001B[0m query \u001B[38;5;241m=\u001B[39m \u001B[38;5;124mf\u001B[39m\u001B[38;5;124m\"\"\"\u001B[39m\n\u001B[1;32m   2856\u001B[0m \u001B[38;5;124mSELECT\u001B[39m\n\u001B[1;32m   2857\u001B[0m \u001B[38;5;124m    name\u001B[39m\n\u001B[0;32m   (...)\u001B[0m\n\u001B[1;32m   2862\u001B[0m \u001B[38;5;124m    AND name=\u001B[39m\u001B[38;5;132;01m{\u001B[39;00mwld\u001B[38;5;132;01m}\u001B[39;00m\u001B[38;5;124m;\u001B[39m\n\u001B[1;32m   2863\u001B[0m \u001B[38;5;124m\u001B[39m\u001B[38;5;124m\"\"\"\u001B[39m\n\u001B[0;32m-> 2865\u001B[0m \u001B[38;5;28;01mreturn\u001B[39;00m \u001B[38;5;28mlen\u001B[39m(\u001B[38;5;28;43mself\u001B[39;49m\u001B[38;5;241;43m.\u001B[39;49m\u001B[43mexecute\u001B[49m\u001B[43m(\u001B[49m\u001B[43mquery\u001B[49m\u001B[43m,\u001B[49m\u001B[43m \u001B[49m\u001B[43m[\u001B[49m\u001B[43mname\u001B[49m\u001B[43m]\u001B[49m\u001B[43m)\u001B[49m\u001B[38;5;241m.\u001B[39mfetchall()) \u001B[38;5;241m>\u001B[39m \u001B[38;5;241m0\u001B[39m\n",
      "File \u001B[0;32m~/PycharmProjects/DB_Chatbot/venv/lib/python3.9/site-packages/pandas/io/sql.py:2672\u001B[0m, in \u001B[0;36mSQLiteDatabase.execute\u001B[0;34m(self, sql, params)\u001B[0m\n\u001B[1;32m   2670\u001B[0m     \u001B[38;5;28;01mraise\u001B[39;00m \u001B[38;5;167;01mTypeError\u001B[39;00m(\u001B[38;5;124m\"\u001B[39m\u001B[38;5;124mQuery must be a string unless using sqlalchemy.\u001B[39m\u001B[38;5;124m\"\u001B[39m)\n\u001B[1;32m   2671\u001B[0m args \u001B[38;5;241m=\u001B[39m [] \u001B[38;5;28;01mif\u001B[39;00m params \u001B[38;5;129;01mis\u001B[39;00m \u001B[38;5;28;01mNone\u001B[39;00m \u001B[38;5;28;01melse\u001B[39;00m [params]\n\u001B[0;32m-> 2672\u001B[0m cur \u001B[38;5;241m=\u001B[39m \u001B[38;5;28;43mself\u001B[39;49m\u001B[38;5;241;43m.\u001B[39;49m\u001B[43mcon\u001B[49m\u001B[38;5;241;43m.\u001B[39;49m\u001B[43mcursor\u001B[49m()\n\u001B[1;32m   2673\u001B[0m \u001B[38;5;28;01mtry\u001B[39;00m:\n\u001B[1;32m   2674\u001B[0m     cur\u001B[38;5;241m.\u001B[39mexecute(sql, \u001B[38;5;241m*\u001B[39margs)\n",
      "\u001B[0;31mAttributeError\u001B[0m: 'Engine' object has no attribute 'cursor'"
     ]
    }
   ],
   "source": [
    "import pandas as pd\n",
    "from sqlalchemy import create_engine\n",
    "\n",
    "# Create a SQLAlchemy engine\n",
    "engine = create_engine('sqlite:///fraud.db')\n",
    "\n",
    "# Create a DataFrame\n",
    "data = {\n",
    "    'name': ['Alice', 'Bob', 'Charlie'],\n",
    "    'age': [25, 30, 35]\n",
    "}\n",
    "df = pd.DataFrame(data)\n",
    "\n",
    "# Write the DataFrame to SQLite\n",
    "df.to_sql('your_table_name', con=engine, if_exists='replace', index=False)"
   ]
  },
  {
   "cell_type": "code",
   "execution_count": 13,
   "outputs": [
    {
     "name": "stdout",
     "output_type": "stream",
     "text": [
      "<class 'sqlalchemy.sql.sqltypes.String'>\n",
      "<class 'sqlalchemy.sql.sqltypes.String'>\n",
      "<class 'sqlalchemy.sql.sqltypes.String'>\n",
      "<class 'sqlalchemy.sql.sqltypes.Float'>\n",
      "<class 'sqlalchemy.sql.sqltypes.String'>\n",
      "<class 'sqlalchemy.sql.sqltypes.String'>\n",
      "<class 'sqlalchemy.sql.sqltypes.Float'>\n",
      "<class 'sqlalchemy.sql.sqltypes.Float'>\n",
      "<class 'sqlalchemy.sql.sqltypes.Integer'>\n",
      "<class 'sqlalchemy.sql.sqltypes.String'>\n",
      "<class 'sqlalchemy.sql.sqltypes.String'>\n",
      "<class 'sqlalchemy.sql.sqltypes.String'>\n",
      "<class 'sqlalchemy.sql.sqltypes.Float'>\n",
      "<class 'sqlalchemy.sql.sqltypes.Float'>\n",
      "<class 'sqlalchemy.sql.sqltypes.String'>\n",
      "2024-08-09 22:20:29,523 INFO sqlalchemy.engine.Engine BEGIN (implicit)\n",
      "2024-08-09 22:20:29,526 INFO sqlalchemy.engine.Engine PRAGMA main.table_info(\"fraud\")\n",
      "2024-08-09 22:20:29,528 INFO sqlalchemy.engine.Engine [raw sql] ()\n",
      "2024-08-09 22:20:29,537 INFO sqlalchemy.engine.Engine COMMIT\n"
     ]
    },
    {
     "name": "stderr",
     "output_type": "stream",
     "text": [
      "/var/folders/wb/wd79lvhj47g_7s7zw5ytxfzm0000gn/T/ipykernel_85363/1322103263.py:41: UserWarning: pandas only supports SQLAlchemy connectable (engine/connection) or database string URI or sqlite3 DBAPI2 connection. Other DBAPI2 objects are not tested. Please consider using SQLAlchemy.\n",
      "  df.to_sql('fraud', conn.connection, if_exists='replace', index=False)\n"
     ]
    },
    {
     "name": "stdout",
     "output_type": "stream",
     "text": [
      "2024-08-09 22:20:32,744 INFO sqlalchemy.engine.Engine SELECT * FROM fraud LIMIT 3\n",
      "2024-08-09 22:20:32,746 INFO sqlalchemy.engine.Engine [raw sql] ()\n",
      "('04-01-2019 00:58', '\"Stokes, Christiansen and Sipes\"', 'grocery_net', 14.37, 'Wales', 'AK', 64.7556, -165.6723, 145, '\"Administrator, education\"', '09-11-1939', 'a3806e984cec6ac0096d8184c64ad3a1', 65.654142, -164.722603, '1')\n",
      "('04-01-2019 15:06', 'Predovic Inc', 'shopping_net', 966.11, 'Wales', 'AK', 64.7556, -165.6723, 145, '\"Administrator, education\"', '09-11-1939', 'a59185fe1b9ccf21323f581d7477573f', 65.468863, -165.473127, '1')\n",
      "('04-01-2019 22:37', 'Wisozk and Sons', 'misc_pos', 49.61, 'Wales', 'AK', 64.7556, -165.6723, 145, '\"Administrator, education\"', '09-11-1939', '86ba3a888b42cd3925881fa34177b4e0', 65.347667, -165.914542, '1')\n"
     ]
    }
   ],
   "source": [
    "import pandas as pd\n",
    "from sqlalchemy import create_engine, MetaData, Table, Column, Integer, Float, String, Boolean\n",
    "\n",
    "# Step 1: Load CSV into DataFrame\n",
    "df = pd.read_csv('fraud_data.csv')\n",
    "\n",
    "# Step 2: Define a function to infer SQLAlchemy column types\n",
    "def infer_column_type(series):\n",
    "    if pd.api.types.is_integer_dtype(series):\n",
    "        return Integer\n",
    "    elif pd.api.types.is_float_dtype(series):\n",
    "        return Float\n",
    "    elif pd.api.types.is_bool_dtype(series):\n",
    "        return Boolean\n",
    "    elif pd.api.types.is_datetime64_any_dtype(series):\n",
    "        return String  # Use String for datetime for simplicity; handle separately if needed\n",
    "    else:\n",
    "        return String\n",
    "\n",
    "# Step 3: Create SQLAlchemy engine and initialize metadata\n",
    "engine = create_engine('sqlite:///fraud.db',echo=True)\n",
    "\n",
    "metadata = MetaData()\n",
    "\n",
    "# Step 4: Define columns dynamically based on CSV data types\n",
    "columns = [Column('id', Integer, primary_key=True)]  # Optional: add an ID column for primary key\n",
    "\n",
    "for column_name in df.columns:\n",
    "    column_type = infer_column_type(df[column_name])\n",
    "    print(column_type)\n",
    "    columns.append(Column(column_name, column_type))\n",
    "\n",
    "# Step 5: Define the table\n",
    "fraud_table = Table('fraud', metadata, *columns)\n",
    "\n",
    "# Step 6: Create the table in the database\n",
    "metadata.create_all(engine)\n",
    "\n",
    "# Step 7: Write DataFrame to SQLite database\n",
    "with engine.connect() as conn:\n",
    "    df.to_sql('fraud', conn.connection, if_exists='replace', index=False)\n",
    "\n",
    "with engine.connect() as conn:\n",
    "    query = \"SELECT * FROM fraud LIMIT 3\"\n",
    "    result = conn.execute(query)\n",
    "    for row in result:\n",
    "        print(row)"
   ],
   "metadata": {
    "collapsed": false,
    "ExecuteTime": {
     "end_time": "2024-08-10T05:20:32.773391Z",
     "start_time": "2024-08-10T05:20:29.329271Z"
    }
   }
  },
  {
   "cell_type": "code",
   "execution_count": null,
   "outputs": [],
   "source": [],
   "metadata": {
    "collapsed": false
   }
  }
 ],
 "metadata": {
  "kernelspec": {
   "display_name": "Python 3",
   "language": "python",
   "name": "python3"
  },
  "language_info": {
   "codemirror_mode": {
    "name": "ipython",
    "version": 2
   },
   "file_extension": ".py",
   "mimetype": "text/x-python",
   "name": "python",
   "nbconvert_exporter": "python",
   "pygments_lexer": "ipython2",
   "version": "2.7.6"
  }
 },
 "nbformat": 4,
 "nbformat_minor": 0
}
