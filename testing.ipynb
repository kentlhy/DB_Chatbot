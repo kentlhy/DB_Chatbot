{
 "cells": [
  {
   "cell_type": "code",
   "execution_count": 14,
   "metadata": {
    "collapsed": true,
    "ExecuteTime": {
     "end_time": "2024-08-10T19:45:55.081516Z",
     "start_time": "2024-08-10T19:45:55.079542Z"
    }
   },
   "outputs": [
    {
     "name": "stdout",
     "output_type": "stream",
     "text": [
      "Tables: []\n"
     ]
    }
   ],
   "source": [
    "from sqlalchemy import create_engine, inspect\n",
    "\n",
    "def list_tables(db_url):\n",
    "    engine = create_engine(db_url)\n",
    "    inspector = inspect(engine)\n",
    "    tables = inspector.get_table_names()\n",
    "    return tables\n",
    "\n",
    "# Example usage\n",
    "db_url = 'sqlite:///fraud.db'  # URL for your SQLite database\n",
    "tables = list_tables(db_url)\n",
    "print(\"Tables:\", tables)"
   ]
  },
  {
   "cell_type": "code",
   "execution_count": 13,
   "outputs": [
    {
     "name": "stdout",
     "output_type": "stream",
     "text": [
      "<class 'sqlalchemy.sql.sqltypes.String'>\n",
      "<class 'sqlalchemy.sql.sqltypes.String'>\n",
      "<class 'sqlalchemy.sql.sqltypes.String'>\n",
      "<class 'sqlalchemy.sql.sqltypes.Float'>\n",
      "<class 'sqlalchemy.sql.sqltypes.String'>\n",
      "<class 'sqlalchemy.sql.sqltypes.String'>\n",
      "<class 'sqlalchemy.sql.sqltypes.Float'>\n",
      "<class 'sqlalchemy.sql.sqltypes.Float'>\n",
      "<class 'sqlalchemy.sql.sqltypes.Integer'>\n",
      "<class 'sqlalchemy.sql.sqltypes.String'>\n",
      "<class 'sqlalchemy.sql.sqltypes.String'>\n",
      "<class 'sqlalchemy.sql.sqltypes.String'>\n",
      "<class 'sqlalchemy.sql.sqltypes.Float'>\n",
      "<class 'sqlalchemy.sql.sqltypes.Float'>\n",
      "<class 'sqlalchemy.sql.sqltypes.String'>\n",
      "2024-08-09 22:20:29,523 INFO sqlalchemy.engine.Engine BEGIN (implicit)\n",
      "2024-08-09 22:20:29,526 INFO sqlalchemy.engine.Engine PRAGMA main.table_info(\"fraud\")\n",
      "2024-08-09 22:20:29,528 INFO sqlalchemy.engine.Engine [raw sql] ()\n",
      "2024-08-09 22:20:29,537 INFO sqlalchemy.engine.Engine COMMIT\n"
     ]
    },
    {
     "name": "stderr",
     "output_type": "stream",
     "text": [
      "/var/folders/wb/wd79lvhj47g_7s7zw5ytxfzm0000gn/T/ipykernel_85363/1322103263.py:41: UserWarning: pandas only supports SQLAlchemy connectable (engine/connection) or database string URI or sqlite3 DBAPI2 connection. Other DBAPI2 objects are not tested. Please consider using SQLAlchemy.\n",
      "  df.to_sql('fraud', conn.connection, if_exists='replace', index=False)\n"
     ]
    },
    {
     "name": "stdout",
     "output_type": "stream",
     "text": [
      "2024-08-09 22:20:32,744 INFO sqlalchemy.engine.Engine SELECT * FROM fraud LIMIT 3\n",
      "2024-08-09 22:20:32,746 INFO sqlalchemy.engine.Engine [raw sql] ()\n",
      "('04-01-2019 00:58', '\"Stokes, Christiansen and Sipes\"', 'grocery_net', 14.37, 'Wales', 'AK', 64.7556, -165.6723, 145, '\"Administrator, education\"', '09-11-1939', 'a3806e984cec6ac0096d8184c64ad3a1', 65.654142, -164.722603, '1')\n",
      "('04-01-2019 15:06', 'Predovic Inc', 'shopping_net', 966.11, 'Wales', 'AK', 64.7556, -165.6723, 145, '\"Administrator, education\"', '09-11-1939', 'a59185fe1b9ccf21323f581d7477573f', 65.468863, -165.473127, '1')\n",
      "('04-01-2019 22:37', 'Wisozk and Sons', 'misc_pos', 49.61, 'Wales', 'AK', 64.7556, -165.6723, 145, '\"Administrator, education\"', '09-11-1939', '86ba3a888b42cd3925881fa34177b4e0', 65.347667, -165.914542, '1')\n"
     ]
    }
   ],
   "source": [
    "import pandas as pd\n",
    "from sqlalchemy import create_engine, MetaData, Table, Column, Integer, Float, String, Boolean\n",
    "\n",
    "# Step 1: Load CSV into DataFrame\n",
    "df = pd.read_csv('fraud_data.csv')\n",
    "\n",
    "# Step 2: Define a function to infer SQLAlchemy column types\n",
    "def infer_column_type(series):\n",
    "    if pd.api.types.is_integer_dtype(series):\n",
    "        return Integer\n",
    "    elif pd.api.types.is_float_dtype(series):\n",
    "        return Float\n",
    "    elif pd.api.types.is_bool_dtype(series):\n",
    "        return Boolean\n",
    "    elif pd.api.types.is_datetime64_any_dtype(series):\n",
    "        return String  # Use String for datetime for simplicity; handle separately if needed\n",
    "    else:\n",
    "        return String\n",
    "\n",
    "# Step 3: Create SQLAlchemy engine and initialize metadata\n",
    "engine = create_engine('sqlite:///fraud.db',echo=True)\n",
    "\n",
    "metadata = MetaData()\n",
    "\n",
    "# Step 4: Define columns dynamically based on CSV data types\n",
    "columns = [Column('id', Integer, primary_key=True)]  # Optional: add an ID column for primary key\n",
    "\n",
    "for column_name in df.columns:\n",
    "    column_type = infer_column_type(df[column_name])\n",
    "    print(column_type)\n",
    "    columns.append(Column(column_name, column_type))\n",
    "\n",
    "# Step 5: Define the table\n",
    "fraud_table = Table('fraud', metadata, *columns)\n",
    "\n",
    "# Step 6: Create the table in the database\n",
    "metadata.create_all(engine)\n",
    "\n",
    "# Step 7: Write DataFrame to SQLite database\n",
    "with engine.connect() as conn:\n",
    "    df.to_sql('fraud', conn.connection, if_exists='replace', index=False)\n",
    "\n",
    "with engine.connect() as conn:\n",
    "    query = \"SELECT * FROM fraud LIMIT 3\"\n",
    "    result = conn.execute(query)\n",
    "    for row in result:\n",
    "        print(row)"
   ],
   "metadata": {
    "collapsed": false,
    "ExecuteTime": {
     "end_time": "2024-08-10T05:20:32.773391Z",
     "start_time": "2024-08-10T05:20:29.329271Z"
    }
   }
  },
  {
   "cell_type": "code",
   "execution_count": null,
   "outputs": [],
   "source": [],
   "metadata": {
    "collapsed": false
   }
  }
 ],
 "metadata": {
  "kernelspec": {
   "display_name": "Python 3",
   "language": "python",
   "name": "python3"
  },
  "language_info": {
   "codemirror_mode": {
    "name": "ipython",
    "version": 2
   },
   "file_extension": ".py",
   "mimetype": "text/x-python",
   "name": "python",
   "nbconvert_exporter": "python",
   "pygments_lexer": "ipython2",
   "version": "2.7.6"
  }
 },
 "nbformat": 4,
 "nbformat_minor": 0
}
