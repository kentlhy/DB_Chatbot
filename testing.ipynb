{
 "cells": [
  {
   "cell_type": "code",
   "execution_count": 3,
   "metadata": {
    "collapsed": true,
    "ExecuteTime": {
     "end_time": "2024-08-10T02:11:01.116307Z",
     "start_time": "2024-08-10T02:11:01.083177Z"
    }
   },
   "outputs": [
    {
     "data": {
      "text/plain": "          Month  Search Index\n0    2004-01-31            99\n1    2004-02-29            98\n2    2004-03-31           100\n3    2004-04-30            83\n4    2004-05-31            82\n..          ...           ...\n157  2017-02-28            79\n158  2017-03-31            83\n159  2017-04-30            74\n160  2017-05-31            71\n161  2017-06-30            74\n\n[162 rows x 2 columns]",
      "text/html": "<div>\n<style scoped>\n    .dataframe tbody tr th:only-of-type {\n        vertical-align: middle;\n    }\n\n    .dataframe tbody tr th {\n        vertical-align: top;\n    }\n\n    .dataframe thead th {\n        text-align: right;\n    }\n</style>\n<table border=\"1\" class=\"dataframe\">\n  <thead>\n    <tr style=\"text-align: right;\">\n      <th></th>\n      <th>Month</th>\n      <th>Search Index</th>\n    </tr>\n  </thead>\n  <tbody>\n    <tr>\n      <th>0</th>\n      <td>2004-01-31</td>\n      <td>99</td>\n    </tr>\n    <tr>\n      <th>1</th>\n      <td>2004-02-29</td>\n      <td>98</td>\n    </tr>\n    <tr>\n      <th>2</th>\n      <td>2004-03-31</td>\n      <td>100</td>\n    </tr>\n    <tr>\n      <th>3</th>\n      <td>2004-04-30</td>\n      <td>83</td>\n    </tr>\n    <tr>\n      <th>4</th>\n      <td>2004-05-31</td>\n      <td>82</td>\n    </tr>\n    <tr>\n      <th>...</th>\n      <td>...</td>\n      <td>...</td>\n    </tr>\n    <tr>\n      <th>157</th>\n      <td>2017-02-28</td>\n      <td>79</td>\n    </tr>\n    <tr>\n      <th>158</th>\n      <td>2017-03-31</td>\n      <td>83</td>\n    </tr>\n    <tr>\n      <th>159</th>\n      <td>2017-04-30</td>\n      <td>74</td>\n    </tr>\n    <tr>\n      <th>160</th>\n      <td>2017-05-31</td>\n      <td>71</td>\n    </tr>\n    <tr>\n      <th>161</th>\n      <td>2017-06-30</td>\n      <td>74</td>\n    </tr>\n  </tbody>\n</table>\n<p>162 rows × 2 columns</p>\n</div>"
     },
     "execution_count": 3,
     "metadata": {},
     "output_type": "execute_result"
    }
   ],
   "source": [
    "# Import necessary libraries\n",
    "import sqlite3\n",
    "import pandas as pd\n",
    "\n",
    "# Define the path to the SQLite database\n",
    "db_path = 'fraud.db'\n",
    "\n",
    "# Create a connection to the SQLite database\n",
    "conn = sqlite3.connect(db_path)\n",
    "\n",
    "# Define the SQL query to get the top 3 rows\n",
    "query = \"SELECT * FROM data\"\n",
    "\n",
    "# Execute the query and fetch the results into a pandas DataFrame\n",
    "df = pd.read_sql_query(query, conn)\n",
    "\n",
    "# Close the connection to the database\n",
    "conn.close()\n",
    "\n",
    "# Display the top 3 rows\n",
    "df"
   ]
  },
  {
   "cell_type": "code",
   "execution_count": null,
   "outputs": [],
   "source": [],
   "metadata": {
    "collapsed": false
   }
  }
 ],
 "metadata": {
  "kernelspec": {
   "display_name": "Python 3",
   "language": "python",
   "name": "python3"
  },
  "language_info": {
   "codemirror_mode": {
    "name": "ipython",
    "version": 2
   },
   "file_extension": ".py",
   "mimetype": "text/x-python",
   "name": "python",
   "nbconvert_exporter": "python",
   "pygments_lexer": "ipython2",
   "version": "2.7.6"
  }
 },
 "nbformat": 4,
 "nbformat_minor": 0
}
